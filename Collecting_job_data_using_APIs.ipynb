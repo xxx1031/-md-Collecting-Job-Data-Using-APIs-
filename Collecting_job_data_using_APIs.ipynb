{
 "cells": [
  {
   "cell_type": "code",
   "id": "initial_id",
   "metadata": {
    "collapsed": true,
    "ExecuteTime": {
     "end_time": "2025-04-16T10:24:00.788507Z",
     "start_time": "2025-04-16T10:23:56.839425Z"
    }
   },
   "source": [
    "import requests\n",
    "import pandas as pd\n",
    "\n",
    "api_url = \"http://api.open-notify.org/astros.json\"\n",
    "response = requests.get(api_url)\n",
    "if response.ok:\n",
    "    data = response.json()\n",
    "print(data)\n",
    "print(data.get('number'))\n",
    "astronauts = data.get('people')\n",
    "print(\"There are {} astronauts on ISS\".format(len(astronauts)))\n",
    "print(\"And their names are :\")\n",
    "for astronaut in astronauts:\n",
    "    print(astronaut.get('name'))"
   ],
   "outputs": [
    {
     "name": "stdout",
     "output_type": "stream",
     "text": [
      "{'people': [{'craft': 'ISS', 'name': 'Oleg Kononenko'}, {'craft': 'ISS', 'name': 'Nikolai Chub'}, {'craft': 'ISS', 'name': 'Tracy Caldwell Dyson'}, {'craft': 'ISS', 'name': 'Matthew Dominick'}, {'craft': 'ISS', 'name': 'Michael Barratt'}, {'craft': 'ISS', 'name': 'Jeanette Epps'}, {'craft': 'ISS', 'name': 'Alexander Grebenkin'}, {'craft': 'ISS', 'name': 'Butch Wilmore'}, {'craft': 'ISS', 'name': 'Sunita Williams'}, {'craft': 'Tiangong', 'name': 'Li Guangsu'}, {'craft': 'Tiangong', 'name': 'Li Cong'}, {'craft': 'Tiangong', 'name': 'Ye Guangfu'}], 'number': 12, 'message': 'success'}\n",
      "12\n",
      "There are 12 astronauts on ISS\n",
      "And their names are :\n",
      "Oleg Kononenko\n",
      "Nikolai Chub\n",
      "Tracy Caldwell Dyson\n",
      "Matthew Dominick\n",
      "Michael Barratt\n",
      "Jeanette Epps\n",
      "Alexander Grebenkin\n",
      "Butch Wilmore\n",
      "Sunita Williams\n",
      "Li Guangsu\n",
      "Li Cong\n",
      "Ye Guangfu\n"
     ]
    }
   ],
   "execution_count": 1
  },
  {
   "metadata": {
    "ExecuteTime": {
     "end_time": "2025-04-16T10:24:23.205620Z",
     "start_time": "2025-04-16T10:24:20.296409Z"
    }
   },
   "cell_type": "code",
   "source": [
    "api_url = \"https://cf-courses-data.s3.us.cloud-object-storage.appdomain.cloud/IBM-DA0321EN-SkillsNetwork/labs/module%201/Accessing%20Data%20Using%20APIs/jobs.json\"\n",
    "\n",
    "def get_number_of_jobs_T(technology):\n",
    "    response = requests.get(api_url)\n",
    "    if response.status_code != 200:\n",
    "        raise Exception(f\"Request failed, status code：{response.status_code}\")\n",
    "    data = response.json()\n",
    "    number_of_jobs = 0\n",
    "    for job in data:\n",
    "        skills = job.get(\"Key Skills\", \"\")\n",
    "        if technology.lower() in skills.lower():\n",
    "            number_of_jobs += 1\n",
    "    return technology, number_of_jobs\n",
    "\n",
    "# 测试调用\n",
    "get_number_of_jobs_T(\"Python\")"
   ],
   "id": "1a39a2c3ffafba52",
   "outputs": [
    {
     "data": {
      "text/plain": [
       "('Python', 1173)"
      ]
     },
     "execution_count": 2,
     "metadata": {},
     "output_type": "execute_result"
    }
   ],
   "execution_count": 2
  },
  {
   "metadata": {
    "ExecuteTime": {
     "end_time": "2025-04-16T10:47:26.486821Z",
     "start_time": "2025-04-16T10:47:23.660004Z"
    }
   },
   "cell_type": "code",
   "source": [
    "def get_number_of_jobs_L(location):\n",
    "    response = requests.get(api_url)\n",
    "    if response.status_code != 200:\n",
    "        raise Exception(f\"请求失败，状态码：{response.status_code}\")\n",
    "    data = response.json()\n",
    "    number_of_jobs = 0\n",
    "    for job in data:\n",
    "        job_location = job.get(\"Location\", \"\")\n",
    "        if location.lower() in job_location.lower():\n",
    "            number_of_jobs += 1\n",
    "    return location, number_of_jobs\n",
    "\n",
    "# 测试调用\n",
    "get_number_of_jobs_L(\"Los Angeles\")"
   ],
   "id": "3cd4da6732694214",
   "outputs": [
    {
     "data": {
      "text/plain": [
       "('Los Angeles', 640)"
      ]
     },
     "execution_count": 3,
     "metadata": {},
     "output_type": "execute_result"
    }
   ],
   "execution_count": 3
  },
  {
   "metadata": {
    "ExecuteTime": {
     "end_time": "2025-04-16T10:49:15.025505Z",
     "start_time": "2025-04-16T10:48:43.139277Z"
    }
   },
   "cell_type": "code",
   "source": [
    "from openpyxl import Workbook\n",
    "\n",
    "technologies = [\n",
    "    \"C\", \"C#\", \"C++\", \"Java\", \"JavaScript\", \"Python\",\n",
    "    \"Scala\", \"Oracle\", \"SQL Server\", \"MySQL Server\",\n",
    "    \"PostgreSQL\", \"MongoDB\"\n",
    "]\n",
    "\n",
    "results = []\n",
    "for tech in technologies:\n",
    "    tech_name, count = get_number_of_jobs_T(tech)\n",
    "    results.append({\"Technology\": tech_name, \"Number of Jobs\": count})\n",
    "\n",
    "df = pd.DataFrame(results)\n",
    "df.to_excel(\"job_postings_by_technology.xlsx\", index=False)"
   ],
   "id": "68bf5862554a279c",
   "outputs": [],
   "execution_count": 5
  },
  {
   "metadata": {
    "ExecuteTime": {
     "end_time": "2025-04-16T10:52:43.430522Z",
     "start_time": "2025-04-16T10:52:43.398645Z"
    }
   },
   "cell_type": "code",
   "source": [
    "# 读取 Excel 文件\n",
    "df = pd.read_excel(\"job_postings_by_technology.xlsx\")\n",
    "\n",
    "# 将 DataFrame 转换为字典列表\n",
    "job_list = df.to_dict(orient='records')\n",
    "\n",
    "# 输出列表\n",
    "print(\"Job Postings List:\")\n",
    "for item in job_list:\n",
    "    print(item)"
   ],
   "id": "3c340cacd71f854",
   "outputs": [
    {
     "name": "stdout",
     "output_type": "stream",
     "text": [
      "Job Postings List:\n",
      "{'Technology': 'C', 'Number of Jobs': 25114}\n",
      "{'Technology': 'C#', 'Number of Jobs': 526}\n",
      "{'Technology': 'C++', 'Number of Jobs': 506}\n",
      "{'Technology': 'Java', 'Number of Jobs': 3428}\n",
      "{'Technology': 'JavaScript', 'Number of Jobs': 2248}\n",
      "{'Technology': 'Python', 'Number of Jobs': 1173}\n",
      "{'Technology': 'Scala', 'Number of Jobs': 138}\n",
      "{'Technology': 'Oracle', 'Number of Jobs': 899}\n",
      "{'Technology': 'SQL Server', 'Number of Jobs': 423}\n",
      "{'Technology': 'MySQL Server', 'Number of Jobs': 0}\n",
      "{'Technology': 'PostgreSQL', 'Number of Jobs': 86}\n",
      "{'Technology': 'MongoDB', 'Number of Jobs': 208}\n"
     ]
    }
   ],
   "execution_count": 6
  },
  {
   "metadata": {
    "ExecuteTime": {
     "end_time": "2025-04-16T12:00:45.889102Z",
     "start_time": "2025-04-16T12:00:40.418201Z"
    }
   },
   "cell_type": "code",
   "source": [
    "def get_matching_jobs(technologies):\n",
    "    response = requests.get(api_url)\n",
    "    if response.status_code != 200:\n",
    "        raise Exception(f\"请求失败，状态码：{response.status_code}\")\n",
    "\n",
    "    data = response.json()\n",
    "    matching_jobs = []\n",
    "\n",
    "    for job in data:\n",
    "        job_skills = job.get(\"Key Skills\", \"\").lower()\n",
    "        for tech in technologies:\n",
    "            if tech.lower() in job_skills:\n",
    "                job_entry = {\n",
    "                    \"Id\": job.get(\"Id\",\"\"),\n",
    "                    \"Job Title\": job.get(\"Job Title\", \"\"),\n",
    "                    \"Job Experience Required\": job.get(\"Job Experience Required\", \"\"),\n",
    "                    \"Key Skills\": job.get(\"Key Skills\", \"\"),\n",
    "                    \"Role Category\": job.get(\"Role Category\", \"\"),\n",
    "                    \"Location\": job.get(\"Location\", \"\"),\n",
    "                    \"Functional Area\": job.get(\"Functional Area\", \"\"),\n",
    "                    \"Industry\": job.get(\"Industry\", \"\"),\n",
    "                    \"Role\": job.get(\"Role\", \"\")\n",
    "                }\n",
    "                matching_jobs.append(job_entry)\n",
    "                break\n",
    "\n",
    "    return matching_jobs\n",
    "results = get_matching_jobs(technologies)\n",
    "df = pd.DataFrame(results)\n",
    "df.to_excel(\"matching_jobs.xlsx\", index=False)"
   ],
   "id": "a97bd4f5de37c6ab",
   "outputs": [],
   "execution_count": 7
  }
 ],
 "metadata": {
  "kernelspec": {
   "display_name": "Python 3",
   "language": "python",
   "name": "python3"
  },
  "language_info": {
   "codemirror_mode": {
    "name": "ipython",
    "version": 2
   },
   "file_extension": ".py",
   "mimetype": "text/x-python",
   "name": "python",
   "nbconvert_exporter": "python",
   "pygments_lexer": "ipython2",
   "version": "2.7.6"
  }
 },
 "nbformat": 4,
 "nbformat_minor": 5
}
